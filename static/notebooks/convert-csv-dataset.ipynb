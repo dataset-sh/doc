{
 "cells": [
  {
   "cell_type": "code",
   "execution_count": 1,
   "id": "d3c61d11",
   "metadata": {},
   "outputs": [
    {
     "name": "stdout",
     "output_type": "stream",
     "text": [
      "You are building with dataset.sh version: 0.0.34.post1\n",
      "\n"
     ]
    }
   ],
   "source": [
    "from importlib.metadata import version\n",
    "print(f\"You are building with dataset.sh version: {version('dataset_sh')}\\n\")"
   ]
  },
  {
   "cell_type": "markdown",
   "id": "d04cf725",
   "metadata": {},
   "source": [
    "## How to convert json file to a dataset using dataset.sh\n",
    "\n",
    "In this tutorial, we’ll walk through how to convert JSON data into a `dataset.sh` dataset.\n",
    "\n",
    "We’ll cover the following steps:\n",
    "\n",
    "1. Get the JSON data – Fetch or load your raw JSON content.\n",
    "2. Define the data type – Describe the shape and structure of the data using a `easytype` type annotation.\n",
    "3. Create and save the dataset – Convert the JSON into a standardized dataset format and save it locally.\n",
    "4. (Optional) Upload the dataset to a remote server – Share your dataset by pushing it to a hosted location.\n"
   ]
  },
  {
   "cell_type": "code",
   "execution_count": 2,
   "id": "16bb20ac",
   "metadata": {},
   "outputs": [
    {
     "data": {
      "text/markdown": [
       "\n",
       "\n",
       "This dataset contains **ISO 639-1**: The International Standard for country codes and codes for their subdivisions.\n",
       "\n",
       "This dataset provides information on languages, including:\n",
       "\n",
       "- **ISO Language Code** (`code`): A unique, two-letter code representing the language, following the ISO 639-1 standard.\n",
       "- **Language Name in English** (`name`): The name of the language in English.\n",
       "- **Native Name** (`native`): The name of the language as written in its native script or language form.\n"
      ],
      "text/plain": [
       "<IPython.core.display.Markdown object>"
      ]
     },
     "metadata": {},
     "output_type": "display_data"
    }
   ],
   "source": [
    "from IPython.display import Markdown, display\n",
    "import pandas as pd\n",
    "\n",
    "dataset_readme = \"\"\"\n",
    "\n",
    "This dataset contains **ISO 639-1**: The International Standard for country codes and codes for their subdivisions.\n",
    "\n",
    "This dataset provides information on languages, including:\n",
    "\n",
    "- **ISO Language Code** (`code`): A unique, two-letter code representing the language, following the ISO 639-1 standard.\n",
    "- **Language Name in English** (`name`): The name of the language in English.\n",
    "- **Native Name** (`native`): The name of the language as written in its native script or language form.\n",
    "\"\"\"\n",
    "\n",
    "display(Markdown(dataset_readme))"
   ]
  },
  {
   "cell_type": "markdown",
   "id": "dfa5dec3",
   "metadata": {},
   "source": [
    "## Download and get the json data\n"
   ]
  },
  {
   "cell_type": "code",
   "execution_count": 3,
   "id": "b6eab55d",
   "metadata": {},
   "outputs": [
    {
     "name": "stdout",
     "output_type": "stream",
     "text": [
      "\n",
      "\n",
      "This dataset contains **ISO 639-1**: The International Standard for country codes and codes for their subdivisions.\n",
      "\n",
      "This dataset provides information on languages, including:\n",
      "\n",
      "- **ISO Language Code** (`code`): A unique, two-letter code representing the language, following the ISO 639-1 standard.\n",
      "- **Language Name in English** (`name`): The name of the language in English.\n",
      "- **Native Name** (`native`): The name of the language as written in its native script or language form.\n",
      "\n"
     ]
    }
   ],
   "source": [
    "print(dataset_readmet)"
   ]
  },
  {
   "cell_type": "code",
   "execution_count": 4,
   "id": "aafea779",
   "metadata": {
    "scrolled": true
   },
   "outputs": [
    {
     "data": {
      "text/plain": [
       "[{'code': 'aa', 'name': 'Afar', 'native': 'Afar'},\n",
       " {'code': 'ab', 'name': 'Abkhazian', 'native': 'Аҧсуа'},\n",
       " {'code': 'af', 'name': 'Afrikaans', 'native': 'Afrikaans'},\n",
       " {'code': 'ak', 'name': 'Akan', 'native': 'Akana'},\n",
       " {'code': 'am', 'name': 'Amharic', 'native': 'አማርኛ'},\n",
       " {'code': 'an', 'name': 'Aragonese', 'native': 'Aragonés'},\n",
       " {'code': 'ar', 'name': 'Arabic', 'native': 'العربية', 'rtl': 1},\n",
       " {'code': 'as', 'name': 'Assamese', 'native': 'অসমীয়া'},\n",
       " {'code': 'av', 'name': 'Avar', 'native': 'Авар'},\n",
       " {'code': 'ay', 'name': 'Aymara', 'native': 'Aymar'},\n",
       " {'code': 'az', 'name': 'Azerbaijani', 'native': 'Azərbaycanca'},\n",
       " {'code': 'ba', 'name': 'Bashkir', 'native': 'Башҡорт'},\n",
       " {'code': 'be', 'name': 'Belarusian', 'native': 'Беларуская'},\n",
       " {'code': 'bg', 'name': 'Bulgarian', 'native': 'Български'},\n",
       " {'code': 'bh', 'name': 'Bihari', 'native': 'भोजपुरी'},\n",
       " {'code': 'bi', 'name': 'Bislama', 'native': 'Bislama'},\n",
       " {'code': 'bm', 'name': 'Bambara', 'native': 'Bamanankan'},\n",
       " {'code': 'bn', 'name': 'Bengali', 'native': 'বাংলা'},\n",
       " {'code': 'bo', 'name': 'Tibetan', 'native': 'བོད་ཡིག / Bod skad'},\n",
       " {'code': 'br', 'name': 'Breton', 'native': 'Brezhoneg'},\n",
       " {'code': 'bs', 'name': 'Bosnian', 'native': 'Bosanski'},\n",
       " {'code': 'ca', 'name': 'Catalan', 'native': 'Català'},\n",
       " {'code': 'ce', 'name': 'Chechen', 'native': 'Нохчийн'},\n",
       " {'code': 'ch', 'name': 'Chamorro', 'native': 'Chamoru'},\n",
       " {'code': 'co', 'name': 'Corsican', 'native': 'Corsu'},\n",
       " {'code': 'cr', 'name': 'Cree', 'native': 'Nehiyaw'},\n",
       " {'code': 'cs', 'name': 'Czech', 'native': 'Česky'},\n",
       " {'code': 'cu',\n",
       "  'name': 'Old Church Slavonic / Old Bulgarian',\n",
       "  'native': 'словѣньскъ / slověnĭskŭ'},\n",
       " {'code': 'cv', 'name': 'Chuvash', 'native': 'Чăваш'},\n",
       " {'code': 'cy', 'name': 'Welsh', 'native': 'Cymraeg'},\n",
       " {'code': 'da', 'name': 'Danish', 'native': 'Dansk'},\n",
       " {'code': 'de', 'name': 'German', 'native': 'Deutsch'},\n",
       " {'code': 'dv', 'name': 'Divehi', 'native': 'ދިވެހިބަސް', 'rtl': 1},\n",
       " {'code': 'dz', 'name': 'Dzongkha', 'native': 'ཇོང་ཁ'},\n",
       " {'code': 'ee', 'name': 'Ewe', 'native': 'Ɛʋɛ'},\n",
       " {'code': 'el', 'name': 'Greek', 'native': 'Ελληνικά'},\n",
       " {'code': 'en', 'name': 'English', 'native': 'English'},\n",
       " {'code': 'eo', 'name': 'Esperanto', 'native': 'Esperanto'},\n",
       " {'code': 'es', 'name': 'Spanish', 'native': 'Español'},\n",
       " {'code': 'et', 'name': 'Estonian', 'native': 'Eesti'},\n",
       " {'code': 'eu', 'name': 'Basque', 'native': 'Euskara'},\n",
       " {'code': 'fa', 'name': 'Persian', 'native': 'فارسی', 'rtl': 1},\n",
       " {'code': 'ff', 'name': 'Peul', 'native': 'Fulfulde'},\n",
       " {'code': 'fi', 'name': 'Finnish', 'native': 'Suomi'},\n",
       " {'code': 'fj', 'name': 'Fijian', 'native': 'Na Vosa Vakaviti'},\n",
       " {'code': 'fo', 'name': 'Faroese', 'native': 'Føroyskt'},\n",
       " {'code': 'fr', 'name': 'French', 'native': 'Français'},\n",
       " {'code': 'fy', 'name': 'West Frisian', 'native': 'Frysk'},\n",
       " {'code': 'ga', 'name': 'Irish', 'native': 'Gaeilge'},\n",
       " {'code': 'gd', 'name': 'Scottish Gaelic', 'native': 'Gàidhlig'},\n",
       " {'code': 'gl', 'name': 'Galician', 'native': 'Galego'},\n",
       " {'code': 'gn', 'name': 'Guarani', 'native': \"Avañe'ẽ\"},\n",
       " {'code': 'gu', 'name': 'Gujarati', 'native': 'ગુજરાતી'},\n",
       " {'code': 'gv', 'name': 'Manx', 'native': 'Gaelg'},\n",
       " {'code': 'ha', 'name': 'Hausa', 'native': 'هَوُسَ', 'rtl': 1},\n",
       " {'code': 'he', 'name': 'Hebrew', 'native': 'עברית', 'rtl': 1},\n",
       " {'code': 'hi', 'name': 'Hindi', 'native': 'हिन्दी'},\n",
       " {'code': 'ho', 'name': 'Hiri Motu', 'native': 'Hiri Motu'},\n",
       " {'code': 'hr', 'name': 'Croatian', 'native': 'Hrvatski'},\n",
       " {'code': 'ht', 'name': 'Haitian', 'native': 'Krèyol ayisyen'},\n",
       " {'code': 'hu', 'name': 'Hungarian', 'native': 'Magyar'},\n",
       " {'code': 'hy', 'name': 'Armenian', 'native': 'Հայերեն'},\n",
       " {'code': 'hz', 'name': 'Herero', 'native': 'Otsiherero'},\n",
       " {'code': 'ia', 'name': 'Interlingua', 'native': 'Interlingua'},\n",
       " {'code': 'id', 'name': 'Indonesian', 'native': 'Bahasa Indonesia'},\n",
       " {'code': 'ie', 'name': 'Interlingue', 'native': 'Interlingue'},\n",
       " {'code': 'ig', 'name': 'Igbo', 'native': 'Igbo'},\n",
       " {'code': 'ii', 'name': 'Sichuan Yi', 'native': 'ꆇꉙ / 四川彝语'},\n",
       " {'code': 'ik', 'name': 'Inupiak', 'native': 'Iñupiak'},\n",
       " {'code': 'io', 'name': 'Ido', 'native': 'Ido'},\n",
       " {'code': 'is', 'name': 'Icelandic', 'native': 'Íslenska'},\n",
       " {'code': 'it', 'name': 'Italian', 'native': 'Italiano'},\n",
       " {'code': 'iu', 'name': 'Inuktitut', 'native': 'ᐃᓄᒃᑎᑐᑦ'},\n",
       " {'code': 'ja', 'name': 'Japanese', 'native': '日本語'},\n",
       " {'code': 'jv', 'name': 'Javanese', 'native': 'Basa Jawa'},\n",
       " {'code': 'ka', 'name': 'Georgian', 'native': 'ქართული'},\n",
       " {'code': 'kg', 'name': 'Kongo', 'native': 'KiKongo'},\n",
       " {'code': 'ki', 'name': 'Kikuyu', 'native': 'Gĩkũyũ'},\n",
       " {'code': 'kj', 'name': 'Kuanyama', 'native': 'Kuanyama'},\n",
       " {'code': 'kk', 'name': 'Kazakh', 'native': 'Қазақша'},\n",
       " {'code': 'kl', 'name': 'Greenlandic', 'native': 'Kalaallisut'},\n",
       " {'code': 'km', 'name': 'Cambodian', 'native': 'ភាសាខ្មែរ'},\n",
       " {'code': 'kn', 'name': 'Kannada', 'native': 'ಕನ್ನಡ'},\n",
       " {'code': 'ko', 'name': 'Korean', 'native': '한국어'},\n",
       " {'code': 'kr', 'name': 'Kanuri', 'native': 'Kanuri'},\n",
       " {'code': 'ks', 'name': 'Kashmiri', 'native': 'कश्मीरी / كشميري', 'rtl': 1},\n",
       " {'code': 'ku', 'name': 'Kurdish', 'native': 'Kurdî / كوردی', 'rtl': 1},\n",
       " {'code': 'kv', 'name': 'Komi', 'native': 'Коми'},\n",
       " {'code': 'kw', 'name': 'Cornish', 'native': 'Kernewek'},\n",
       " {'code': 'ky', 'name': 'Kirghiz', 'native': 'Kırgızca / Кыргызча'},\n",
       " {'code': 'la', 'name': 'Latin', 'native': 'Latina'},\n",
       " {'code': 'lb', 'name': 'Luxembourgish', 'native': 'Lëtzebuergesch'},\n",
       " {'code': 'lg', 'name': 'Ganda', 'native': 'Luganda'},\n",
       " {'code': 'li', 'name': 'Limburgian', 'native': 'Limburgs'},\n",
       " {'code': 'ln', 'name': 'Lingala', 'native': 'Lingála'},\n",
       " {'code': 'lo', 'name': 'Laotian', 'native': 'ລາວ / Pha xa lao'},\n",
       " {'code': 'lt', 'name': 'Lithuanian', 'native': 'Lietuvių'},\n",
       " {'code': 'lu', 'name': 'Luba-Katanga', 'native': 'Tshiluba'},\n",
       " {'code': 'lv', 'name': 'Latvian', 'native': 'Latviešu'},\n",
       " {'code': 'mg', 'name': 'Malagasy', 'native': 'Malagasy'},\n",
       " {'code': 'mh', 'name': 'Marshallese', 'native': 'Kajin Majel / Ebon'},\n",
       " {'code': 'mi', 'name': 'Maori', 'native': 'Māori'},\n",
       " {'code': 'mk', 'name': 'Macedonian', 'native': 'Македонски'},\n",
       " {'code': 'ml', 'name': 'Malayalam', 'native': 'മലയാളം'},\n",
       " {'code': 'mn', 'name': 'Mongolian', 'native': 'Монгол'},\n",
       " {'code': 'mo', 'name': 'Moldovan', 'native': 'Moldovenească'},\n",
       " {'code': 'mr', 'name': 'Marathi', 'native': 'मराठी'},\n",
       " {'code': 'ms', 'name': 'Malay', 'native': 'Bahasa Melayu'},\n",
       " {'code': 'mt', 'name': 'Maltese', 'native': 'bil-Malti'},\n",
       " {'code': 'my', 'name': 'Burmese', 'native': 'မြန်မာစာ'},\n",
       " {'code': 'na', 'name': 'Nauruan', 'native': 'Dorerin Naoero'},\n",
       " {'code': 'nb', 'name': 'Norwegian Bokmål', 'native': 'Norsk bokmål'},\n",
       " {'code': 'nd', 'name': 'North Ndebele', 'native': 'Sindebele'},\n",
       " {'code': 'ne', 'name': 'Nepali', 'native': 'नेपाली'},\n",
       " {'code': 'ng', 'name': 'Ndonga', 'native': 'Oshiwambo'},\n",
       " {'code': 'nl', 'name': 'Dutch', 'native': 'Nederlands'},\n",
       " {'code': 'nn', 'name': 'Norwegian Nynorsk', 'native': 'Norsk nynorsk'},\n",
       " {'code': 'no', 'name': 'Norwegian', 'native': 'Norsk'},\n",
       " {'code': 'nr', 'name': 'South Ndebele', 'native': 'isiNdebele'},\n",
       " {'code': 'nv', 'name': 'Navajo', 'native': 'Diné bizaad'},\n",
       " {'code': 'ny', 'name': 'Chichewa', 'native': 'Chi-Chewa'},\n",
       " {'code': 'oc', 'name': 'Occitan', 'native': 'Occitan'},\n",
       " {'code': 'oj', 'name': 'Ojibwa', 'native': 'ᐊᓂᔑᓈᐯᒧᐎᓐ / Anishinaabemowin'},\n",
       " {'code': 'om', 'name': 'Oromo', 'native': 'Oromoo'},\n",
       " {'code': 'or', 'name': 'Oriya', 'native': 'ଓଡ଼ିଆ'},\n",
       " {'code': 'os', 'name': 'Ossetian / Ossetic', 'native': 'Иронау'},\n",
       " {'code': 'pa',\n",
       "  'name': 'Panjabi / Punjabi',\n",
       "  'native': 'ਪੰਜਾਬੀ / पंजाबी / پنجابي'},\n",
       " {'code': 'pi', 'name': 'Pali', 'native': 'Pāli / पाऴि'},\n",
       " {'code': 'pl', 'name': 'Polish', 'native': 'Polski'},\n",
       " {'code': 'ps', 'name': 'Pashto', 'native': 'پښتو', 'rtl': 1},\n",
       " {'code': 'pt', 'name': 'Portuguese', 'native': 'Português'},\n",
       " {'code': 'qu', 'name': 'Quechua', 'native': 'Runa Simi'},\n",
       " {'code': 'rm', 'name': 'Raeto Romance', 'native': 'Rumantsch'},\n",
       " {'code': 'rn', 'name': 'Kirundi', 'native': 'Kirundi'},\n",
       " {'code': 'ro', 'name': 'Romanian', 'native': 'Română'},\n",
       " {'code': 'ru', 'name': 'Russian', 'native': 'Русский'},\n",
       " {'code': 'rw', 'name': 'Rwandi', 'native': 'Kinyarwandi'},\n",
       " {'code': 'sa', 'name': 'Sanskrit', 'native': 'संस्कृतम्'},\n",
       " {'code': 'sc', 'name': 'Sardinian', 'native': 'Sardu'},\n",
       " {'code': 'sd', 'name': 'Sindhi', 'native': 'सिनधि'},\n",
       " {'code': 'se', 'name': 'Northern Sami', 'native': 'Sámegiella'},\n",
       " {'code': 'sg', 'name': 'Sango', 'native': 'Sängö'},\n",
       " {'code': 'sh',\n",
       "  'name': 'Serbo-Croatian',\n",
       "  'native': 'Srpskohrvatski / Српскохрватски'},\n",
       " {'code': 'si', 'name': 'Sinhalese', 'native': 'සිංහල'},\n",
       " {'code': 'sk', 'name': 'Slovak', 'native': 'Slovenčina'},\n",
       " {'code': 'sl', 'name': 'Slovenian', 'native': 'Slovenščina'},\n",
       " {'code': 'sm', 'name': 'Samoan', 'native': 'Gagana Samoa'},\n",
       " {'code': 'sn', 'name': 'Shona', 'native': 'chiShona'},\n",
       " {'code': 'so', 'name': 'Somalia', 'native': 'Soomaaliga'},\n",
       " {'code': 'sq', 'name': 'Albanian', 'native': 'Shqip'},\n",
       " {'code': 'sr', 'name': 'Serbian', 'native': 'Српски'},\n",
       " {'code': 'ss', 'name': 'Swati', 'native': 'SiSwati'},\n",
       " {'code': 'st', 'name': 'Southern Sotho', 'native': 'Sesotho'},\n",
       " {'code': 'su', 'name': 'Sundanese', 'native': 'Basa Sunda'},\n",
       " {'code': 'sv', 'name': 'Swedish', 'native': 'Svenska'},\n",
       " {'code': 'sw', 'name': 'Swahili', 'native': 'Kiswahili'},\n",
       " {'code': 'ta', 'name': 'Tamil', 'native': 'தமிழ்'},\n",
       " {'code': 'te', 'name': 'Telugu', 'native': 'తెలుగు'},\n",
       " {'code': 'tg', 'name': 'Tajik', 'native': 'Тоҷикӣ'},\n",
       " {'code': 'th', 'name': 'Thai', 'native': 'ไทย / Phasa Thai'},\n",
       " {'code': 'ti', 'name': 'Tigrinya', 'native': 'ትግርኛ'},\n",
       " {'code': 'tk', 'name': 'Turkmen', 'native': 'Туркмен / تركمن'},\n",
       " {'code': 'tl', 'name': 'Tagalog / Filipino', 'native': 'Tagalog'},\n",
       " {'code': 'tn', 'name': 'Tswana', 'native': 'Setswana'},\n",
       " {'code': 'to', 'name': 'Tonga', 'native': 'Lea Faka-Tonga'},\n",
       " {'code': 'tr', 'name': 'Turkish', 'native': 'Türkçe'},\n",
       " {'code': 'ts', 'name': 'Tsonga', 'native': 'Xitsonga'},\n",
       " {'code': 'tt', 'name': 'Tatar', 'native': 'Tatarça'},\n",
       " {'code': 'tw', 'name': 'Twi', 'native': 'Twi'},\n",
       " {'code': 'ty', 'name': 'Tahitian', 'native': 'Reo Mā`ohi'},\n",
       " {'code': 'ug', 'name': 'Uyghur', 'native': 'Uyƣurqə / ئۇيغۇرچە'},\n",
       " {'code': 'uk', 'name': 'Ukrainian', 'native': 'Українська'},\n",
       " {'code': 'ur', 'name': 'Urdu', 'native': 'اردو', 'rtl': 1},\n",
       " {'code': 'uz', 'name': 'Uzbek', 'native': 'Ўзбек'},\n",
       " {'code': 've', 'name': 'Venda', 'native': 'Tshivenḓa'},\n",
       " {'code': 'vi', 'name': 'Vietnamese', 'native': 'Tiếng Việt'},\n",
       " {'code': 'vo', 'name': 'Volapük', 'native': 'Volapük'},\n",
       " {'code': 'wa', 'name': 'Walloon', 'native': 'Walon'},\n",
       " {'code': 'wo', 'name': 'Wolof', 'native': 'Wollof'},\n",
       " {'code': 'xh', 'name': 'Xhosa', 'native': 'isiXhosa'},\n",
       " {'code': 'yi', 'name': 'Yiddish', 'native': 'ייִדיש', 'rtl': 1},\n",
       " {'code': 'yo', 'name': 'Yoruba', 'native': 'Yorùbá'},\n",
       " {'code': 'za', 'name': 'Zhuang', 'native': 'Cuengh / Tôô / 壮语'},\n",
       " {'code': 'zh', 'name': 'Chinese', 'native': '中文'},\n",
       " {'code': 'zu', 'name': 'Zulu', 'native': 'isiZulu'}]"
      ]
     },
     "execution_count": 4,
     "metadata": {},
     "output_type": "execute_result"
    }
   ],
   "source": [
    "import requests\n",
    "import json\n",
    "\n",
    "languages = requests.get('https://gist.githubusercontent.com/joshuabaker/d2775b5ada7d1601bcd7b31cb4081981/raw/fb71e8ff9d7d970899d690fe23351601c5b70f04/languages.json')\n",
    "codes = json.loads(languages.content)\n",
    "codes"
   ]
  },
  {
   "cell_type": "markdown",
   "id": "44711be2",
   "metadata": {},
   "source": [
    "## Define the data types\n",
    "\n",
    "It’s essential for dataset creators to document the structure and contents of their datasets by defining types, as this helps developers who use the dataset understand its content quickly and accurately. \n",
    "\n",
    "Providing a clear type definition reduces potential errors, makes downstream integration smoother, and ultimately saves time for everyone, making the dataset more accessible and usable for developers.\n"
   ]
  },
  {
   "cell_type": "code",
   "execution_count": 5,
   "id": "7f488ab2",
   "metadata": {},
   "outputs": [],
   "source": [
    "from easytype import TypeBuilder\n",
    "LanguageInfo = TypeBuilder.create(\n",
    "    'LanguageInfo',\n",
    "    code=str,\n",
    "    name=str,\n",
    "    native=str,\n",
    ")"
   ]
  },
  {
   "cell_type": "markdown",
   "id": "b4ebe86d",
   "metadata": {},
   "source": [
    "## Create and save the dataset"
   ]
  },
  {
   "cell_type": "code",
   "execution_count": 6,
   "id": "2083cafb",
   "metadata": {},
   "outputs": [
    {
     "name": "stdout",
     "output_type": "stream",
     "text": [
      "dataset_sh version: 0.0.34.post1\n"
     ]
    }
   ],
   "source": [
    "from importlib.metadata import version\n",
    "print(f\"dataset_sh version: {version('dataset_sh')}\")"
   ]
  },
  {
   "cell_type": "code",
   "execution_count": 7,
   "id": "3bc6aa06",
   "metadata": {},
   "outputs": [
    {
     "name": "stderr",
     "output_type": "stream",
     "text": [
      "100%|█████████████████████████████████████████████████████████████████████████████████████████████████████████████████████████████| 185/185 [00:00<00:00, 388750.62it/s]\n"
     ]
    },
    {
     "data": {
      "text/plain": [
       "iso/language-639-1:version=cc1b5c883184985c5a9d886b0afaaa18ea64ac7b3ab1c8416e06516c6088ba2b"
      ]
     },
     "execution_count": 7,
     "metadata": {},
     "output_type": "execute_result"
    }
   ],
   "source": [
    "import dataset_sh as dsh\n",
    "\n",
    "new_dataset = dsh.dataset('iso/language-639-1')\n",
    "new_dataset.set_readme(dataset_readme)\n",
    "\n",
    "latest_version = new_dataset.import_collection(\n",
    "    codes,\n",
    "    type_annotation=LanguageInfo, \n",
    "    description='my first commit.'\n",
    ")\n",
    "\n",
    "latest_version"
   ]
  },
  {
   "cell_type": "markdown",
   "id": "2e5d0eaf",
   "metadata": {},
   "source": [
    "## (Optional) upload the dataset to a remote server\n",
    "\n",
    "To uplaod the dataset to a remote host, make sure you have created a profile for the remote host using the following command:\n",
    "\n",
    "```shell\n",
    "dataset.sh profile add\n",
    "```\n",
    "\n",
    "\n"
   ]
  },
  {
   "cell_type": "code",
   "execution_count": 8,
   "id": "733dd7a0",
   "metadata": {},
   "outputs": [
    {
     "data": {
      "text/plain": [
       "haowu4/language-639-1 at https://base.dataset.sh"
      ]
     },
     "execution_count": 8,
     "metadata": {},
     "output_type": "execute_result"
    }
   ],
   "source": [
    "# you can also use a specific profile\n",
    "# # rmt = dsh.remote(profile='profile_name') \n",
    "rmt = dsh.remote() # using the default profile\n",
    "\n",
    "remote_dataset = rmt.dataset('haowu4/language-639-1')\n",
    "remote_dataset"
   ]
  },
  {
   "cell_type": "code",
   "execution_count": 9,
   "id": "f3e70a09",
   "metadata": {},
   "outputs": [
    {
     "name": "stderr",
     "output_type": "stream",
     "text": [
      "Uploading haowu4/language-639-1: 100%|██████████████████████████████████████████████████████████████████████████████████████████████████████████████████| 100% Completed\n"
     ]
    }
   ],
   "source": [
    "latest_version.upload_as_latest_to(remote_dataset)"
   ]
  }
 ],
 "metadata": {
  "kernelspec": {
   "display_name": "base",
   "language": "python",
   "name": "base"
  },
  "language_info": {
   "codemirror_mode": {
    "name": "ipython",
    "version": 3
   },
   "file_extension": ".py",
   "mimetype": "text/x-python",
   "name": "python",
   "nbconvert_exporter": "python",
   "pygments_lexer": "ipython3",
   "version": "3.12.8"
  }
 },
 "nbformat": 4,
 "nbformat_minor": 5
}
